{
 "cells": [
  {
   "metadata": {},
   "cell_type": "markdown",
   "source": [
    "# Coffe Shop Purchase Analytics\n",
    "\n",
    "Artificial model consists on analysis of approximatelly 1,000 transactions in coffe shop.\n",
    "\n",
    "All data is faked. So the main purpose is to detect some strong correlations, visualize them and construct statistics-driven predictions\n",
    "\n",
    "Breaking in pieces, we're interested in such visualization params:\n",
    "\n",
    "1) Average customer order amount\n",
    "2) Order-by-time dispertion\n",
    "3) Common meals combinations\n",
    "\n",
    "Prediction model is dedicatated to:\n",
    "\n",
    "1) Calculate median profit distributed by time range\n",
    "2) Offer best-seller meal\n",
    "\n",
    "With aim of high accuracy, with obvious, fast and robust implementation Tensorflow+Keras framework are used in research\n"
   ],
   "id": "8a77807f92f26ee"
  },
  {
   "metadata": {
    "ExecuteTime": {
     "end_time": "2025-01-05T14:38:20.130826Z",
     "start_time": "2025-01-05T14:38:15.279837Z"
    }
   },
   "cell_type": "code",
   "source": [
    "import tensorflow as tf\n",
    "from tensorflow.keras.models import Sequential\n",
    "from tensorflow.keras.layers import Dense"
   ],
   "id": "fbc121e30a2defb3",
   "outputs": [],
   "execution_count": 2
  },
  {
   "metadata": {},
   "cell_type": "markdown",
   "source": "",
   "id": "3f3498baccaf210a"
  },
  {
   "metadata": {},
   "cell_type": "code",
   "outputs": [],
   "execution_count": null,
   "source": "",
   "id": "9805ae51c2e0a93a"
  }
 ],
 "metadata": {
  "kernelspec": {
   "display_name": "Python 3",
   "language": "python",
   "name": "python3"
  },
  "language_info": {
   "codemirror_mode": {
    "name": "ipython",
    "version": 2
   },
   "file_extension": ".py",
   "mimetype": "text/x-python",
   "name": "python",
   "nbconvert_exporter": "python",
   "pygments_lexer": "ipython2",
   "version": "2.7.6"
  }
 },
 "nbformat": 4,
 "nbformat_minor": 5
}
